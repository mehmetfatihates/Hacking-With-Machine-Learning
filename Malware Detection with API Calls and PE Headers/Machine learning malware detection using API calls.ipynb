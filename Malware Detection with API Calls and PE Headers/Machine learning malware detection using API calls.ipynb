{
 "cells": [
  {
   "cell_type": "markdown",
   "metadata": {},
   "source": [
    "Android_Feats.csv\n"
   ]
  },
  {
   "cell_type": "code",
   "execution_count": 1,
   "metadata": {},
   "outputs": [],
   "source": [
    "#the required libraries\n",
    "from sklearn.feature_selection import mutual_info_classif\n",
    "from sklearn import preprocessing\n",
    "import numpy as np\n",
    "from sklearn.svm import SVC, LinearSVC\n",
    "from sklearn import svm\n",
    "import csv\n",
    "import random"
   ]
  },
  {
   "cell_type": "code",
   "execution_count": 3,
   "metadata": {},
   "outputs": [],
   "source": [
    "#load the data\n",
    "Dataset = open('Android_Feats.csv')"
   ]
  },
  {
   "cell_type": "code",
   "execution_count": 4,
   "metadata": {},
   "outputs": [],
   "source": [
    "#pre-process our CSV file\n",
    "PRatio = 0.7\n",
    "Reader = csv.reader(Dataset)\n",
    "Data = list(Reader)\n",
    "Data = random.sample(Data, len(Data))\n",
    "Data = np.array(Data)\n",
    "Dataset.close()"
   ]
  },
  {
   "cell_type": "code",
   "execution_count": 10,
   "metadata": {},
   "outputs": [
    {
     "data": {
      "text/plain": [
       "array([['0', '0', '0', ..., '49257', '12', '-1'],\n",
       "       ['0', '0', '0', ..., '54854', '9', '-1'],\n",
       "       ['0', '0', '0', ..., '130294', '1', '-1'],\n",
       "       ...,\n",
       "       ['0', '0', '0', ..., '7324', '2', '-1'],\n",
       "       ['0', '0', '0', ..., '50058', '51', '-1'],\n",
       "       ['0', '0', '0', ..., '164376', '54', '1']], dtype='<U6')"
      ]
     },
     "execution_count": 10,
     "metadata": {},
     "output_type": "execute_result"
    }
   ],
   "source": [
    "Data"
   ]
  },
  {
   "cell_type": "code",
   "execution_count": 11,
   "metadata": {},
   "outputs": [],
   "source": [
    "#Identify the data and the labels in the file using NumPy\n",
    "cols = np.shape(Data)[1]\n",
    "Y = Data[:,cols-1]\n",
    "Y = np.array(Y)\n",
    "Y = np.ravel(Y,order='C')\n",
    "X = Data[:,:cols-1]\n",
    "X = X.astype(np.float)\n",
    "X = preprocessing.scale(X)"
   ]
  },
  {
   "cell_type": "code",
   "execution_count": 13,
   "metadata": {},
   "outputs": [
    {
     "data": {
      "text/plain": [
       "array(['-1', '-1', '-1', ..., '-1', '-1', '1'], dtype='<U6')"
      ]
     },
     "execution_count": 13,
     "metadata": {},
     "output_type": "execute_result"
    }
   ],
   "source": [
    "Y"
   ]
  },
  {
   "cell_type": "code",
   "execution_count": 14,
   "metadata": {},
   "outputs": [
    {
     "data": {
      "text/plain": [
       "array([[-0.09520212, -0.05479966, -0.08387596, ..., -0.36799735,\n",
       "        -0.300015  , -0.24021385],\n",
       "       [-0.09520212, -0.05479966, -0.08387596, ..., -0.34746654,\n",
       "        -0.23421897, -0.24294662],\n",
       "       [-0.09520212, -0.05479966, -0.08387596, ..., -0.6431102 ,\n",
       "         0.65262264, -0.25023401],\n",
       "       ...,\n",
       "       [-0.09520212, -0.05479966, -0.08387596, ..., -0.59383626,\n",
       "        -0.7929621 , -0.24932309],\n",
       "       [-0.09520212, -0.05479966, -0.08387596, ..., -0.27766179,\n",
       "        -0.29059877, -0.20468783],\n",
       "       [-0.09520212, -0.05479966, -0.08387596, ...,  2.69519947,\n",
       "         1.05327661, -0.20195506]])"
      ]
     },
     "execution_count": 14,
     "metadata": {},
     "output_type": "execute_result"
    }
   ],
   "source": [
    "X"
   ]
  },
  {
   "cell_type": "code",
   "execution_count": 15,
   "metadata": {},
   "outputs": [],
   "source": [
    "#Extract the most important features, because computing all of the available features would be a heavy task\n",
    "Features = [i.strip() for i in open(\"Android_Feats.csv\").readlines()]\n",
    "Features = np.array(Features)\n",
    "MI= mutual_info_classif(X,Y)\n",
    "Featureind = sorted(range(len(MI)), key=lambda i: MI[i], reverse=True)[:50]\n",
    "SelectFeats = Features[Featureind]\n",
    "\n"
   ]
  },
  {
   "cell_type": "code",
   "execution_count": 16,
   "metadata": {},
   "outputs": [],
   "source": [
    "#Dividing the dataset (data and labels) into training and testing sets\n",
    "PRows = int(PRatio*len(Data))\n",
    "TrainD = X[:PRows,Featureind]\n",
    "TrainL = Y[:PRows]\n",
    "TestD = X[PRows:,Featureind]\n",
    "TestL = Y[PRows:]"
   ]
  },
  {
   "cell_type": "code",
   "execution_count": 17,
   "metadata": {},
   "outputs": [
    {
     "name": "stdout",
     "output_type": "stream",
     "text": [
      "98.33887043189368\n"
     ]
    }
   ],
   "source": [
    "#To train the model with the support vector machine classifier\n",
    "clf = svm.SVC()\n",
    "clf.fit(TrainD,TrainL)\n",
    "score = clf.score(TestD,TestL)\n",
    "print (score * 100)\n"
   ]
  },
  {
   "cell_type": "code",
   "execution_count": null,
   "metadata": {},
   "outputs": [],
   "source": []
  }
 ],
 "metadata": {
  "kernelspec": {
   "display_name": "Python 3",
   "language": "python",
   "name": "python3"
  },
  "language_info": {
   "codemirror_mode": {
    "name": "ipython",
    "version": 3
   },
   "file_extension": ".py",
   "mimetype": "text/x-python",
   "name": "python",
   "nbconvert_exporter": "python",
   "pygments_lexer": "ipython3",
   "version": "3.8.5"
  }
 },
 "nbformat": 4,
 "nbformat_minor": 4
}

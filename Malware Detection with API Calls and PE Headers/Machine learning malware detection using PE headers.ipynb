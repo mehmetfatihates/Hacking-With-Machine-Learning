{
 "cells": [
  {
   "cell_type": "markdown",
   "metadata": {},
   "source": [
    "Malware Dataset"
   ]
  },
  {
   "cell_type": "code",
   "execution_count": 1,
   "metadata": {},
   "outputs": [],
   "source": [
    "#the required libraries\n",
    "import pandas as pd\n",
    "import sklearn\n",
    "from sklearn.feature_selection import SelectFromModel\n",
    "from sklearn.ensemble import ExtraTreesClassifier\n",
    "from sklearn.metrics import confusion_matrix\n",
    "from sklearn.model_selection import train_test_split"
   ]
  },
  {
   "cell_type": "code",
   "execution_count": 2,
   "metadata": {},
   "outputs": [],
   "source": [
    "#load the data\n",
    "MalwareDataset = pd.read_csv('MalwareData.csv', sep='|')"
   ]
  },
  {
   "cell_type": "code",
   "execution_count": 3,
   "metadata": {},
   "outputs": [],
   "source": [
    "#identify the legit and the malware\n",
    "Legit = MalwareDataset[0:41323].drop(['legitimate'], axis=1)\n",
    "Malware = MalwareDataset[41323::].drop(['legitimate'], axis=1)"
   ]
  },
  {
   "cell_type": "code",
   "execution_count": 4,
   "metadata": {},
   "outputs": [
    {
     "name": "stdout",
     "output_type": "stream",
     "text": [
      "The Number of important features is 56 \n",
      "\n"
     ]
    }
   ],
   "source": [
    "#check the features of dataset\n",
    "print('The Number of important features is %i \\n' % Legit.shape[1])"
   ]
  },
  {
   "cell_type": "code",
   "execution_count": 5,
   "metadata": {},
   "outputs": [
    {
     "name": "stdout",
     "output_type": "stream",
     "text": [
      "(138047, 54)\n",
      "(138047, 14)\n"
     ]
    }
   ],
   "source": [
    "Data = MalwareDataset.drop(['Name', 'md5', 'legitimate'], axis=1).values\n",
    "Target = MalwareDataset['legitimate'].values\n",
    "FeatSelect = sklearn.ensemble.ExtraTreesClassifier().fit(Data, Target)\n",
    "Model = SelectFromModel(FeatSelect, prefit=True)\n",
    "Data_new = Model.transform(Data)\n",
    "print (Data.shape)\n",
    "print (Data_new.shape)"
   ]
  },
  {
   "cell_type": "code",
   "execution_count": 6,
   "metadata": {},
   "outputs": [],
   "source": [
    "#training model\n",
    "Legit_Train, Legit_Test, Malware_Train, Malware_Test =train_test_split(Data_new, Target ,test_size=0.2)"
   ]
  },
  {
   "cell_type": "code",
   "execution_count": 7,
   "metadata": {},
   "outputs": [
    {
     "data": {
      "text/plain": [
       "RandomForestClassifier(n_estimators=50)"
      ]
     },
     "execution_count": 7,
     "metadata": {},
     "output_type": "execute_result"
    }
   ],
   "source": [
    "clf = sklearn.ensemble.RandomForestClassifier(n_estimators=50)\n",
    "clf.fit(Legit_Train, Malware_Train)"
   ]
  },
  {
   "cell_type": "code",
   "execution_count": 8,
   "metadata": {},
   "outputs": [
    {
     "name": "stdout",
     "output_type": "stream",
     "text": [
      "The score of Random Forest Algorithm is 99.40239043824701\n"
     ]
    }
   ],
   "source": [
    "score = clf.score(Legit_Test, Malware_Test)\n",
    "print(\"The score of Random Forest Algorithm is\", score*100)"
   ]
  },
  {
   "cell_type": "code",
   "execution_count": 9,
   "metadata": {},
   "outputs": [
    {
     "name": "stdout",
     "output_type": "stream",
     "text": [
      "False positive rate : 0.467363 %\n",
      "False negative rate : 0.897881 %\n"
     ]
    }
   ],
   "source": [
    "Result = clf.predict(Legit_Test)\n",
    "CM = confusion_matrix(Malware_Test, Result)\n",
    "print(\"False positive rate : %f %%\" % ((CM[0][1] / float(sum(CM[0])))*100))\n",
    "print('False negative rate : %f %%' % ( (CM[1][0] /float(sum(CM[1]))*100)))"
   ]
  },
  {
   "cell_type": "code",
   "execution_count": null,
   "metadata": {},
   "outputs": [],
   "source": []
  }
 ],
 "metadata": {
  "kernelspec": {
   "display_name": "Python 3",
   "language": "python",
   "name": "python3"
  },
  "language_info": {
   "codemirror_mode": {
    "name": "ipython",
    "version": 3
   },
   "file_extension": ".py",
   "mimetype": "text/x-python",
   "name": "python",
   "nbconvert_exporter": "python",
   "pygments_lexer": "ipython3",
   "version": "3.8.5"
  }
 },
 "nbformat": 4,
 "nbformat_minor": 4
}
